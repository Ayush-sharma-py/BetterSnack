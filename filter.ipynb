{
 "cells": [
  {
   "cell_type": "code",
   "execution_count": 1,
   "metadata": {},
   "outputs": [
    {
     "name": "stderr",
     "output_type": "stream",
     "text": [
      "C:\\Users\\ayush\\AppData\\Local\\Temp\\ipykernel_32620\\2856158207.py:3: DtypeWarning: Columns (0,11,14,15,16,17,23,24,25,26,27,31,32,33,34,35,36,37,45,50,51,52,53,56,67,72) have mixed types. Specify dtype option on import or set low_memory=False.\n",
      "  totalData = pandas.read_csv(\"data.csv\", delimiter=\"\\t\", on_bad_lines=\"skip\")\n"
     ]
    }
   ],
   "source": [
    "import pandas\n",
    "\n",
    "totalData = pandas.read_csv(\"data.csv\", delimiter=\"\\t\", on_bad_lines=\"skip\")"
   ]
  },
  {
   "cell_type": "code",
   "execution_count": 1,
   "metadata": {},
   "outputs": [
    {
     "ename": "NameError",
     "evalue": "name 'totalData' is not defined",
     "output_type": "error",
     "traceback": [
      "\u001b[1;31m---------------------------------------------------------------------------\u001b[0m",
      "\u001b[1;31mNameError\u001b[0m                                 Traceback (most recent call last)",
      "Cell \u001b[1;32mIn[1], line 2\u001b[0m\n\u001b[0;32m      1\u001b[0m count \u001b[38;5;241m=\u001b[39m \u001b[38;5;241m0\u001b[39m \u001b[38;5;66;03m# Reusable\u001b[39;00m\n\u001b[1;32m----> 2\u001b[0m columnList \u001b[38;5;241m=\u001b[39m \u001b[38;5;28mlist\u001b[39m(\u001b[43mtotalData\u001b[49m\u001b[38;5;241m.\u001b[39mcolumns) \u001b[38;5;66;03m# List of all columns\u001b[39;00m\n\u001b[0;32m      3\u001b[0m \u001b[38;5;124;03m'''\u001b[39;00m\n\u001b[0;32m      4\u001b[0m \u001b[38;5;124;03mfor i in columnList:\u001b[39;00m\n\u001b[0;32m      5\u001b[0m \u001b[38;5;124;03m    print(count, \": \", i)\u001b[39;00m\n\u001b[0;32m      6\u001b[0m \u001b[38;5;124;03m    count += 1\u001b[39;00m\n\u001b[0;32m      7\u001b[0m \u001b[38;5;124;03m'''\u001b[39;00m\n\u001b[0;32m      8\u001b[0m filterList \u001b[38;5;241m=\u001b[39m [\u001b[38;5;241m0\u001b[39m,\u001b[38;5;241m1\u001b[39m,\u001b[38;5;241m9\u001b[39m,\u001b[38;5;241m10\u001b[39m,\u001b[38;5;241m12\u001b[39m,\u001b[38;5;241m13\u001b[39m,\u001b[38;5;241m14\u001b[39m,\u001b[38;5;241m18\u001b[39m,\u001b[38;5;241m20\u001b[39m,\u001b[38;5;241m28\u001b[39m,\u001b[38;5;241m56\u001b[39m,\u001b[38;5;241m57\u001b[39m,\u001b[38;5;241m58\u001b[39m,\u001b[38;5;241m68\u001b[39m,\u001b[38;5;241m69\u001b[39m,\u001b[38;5;241m87\u001b[39m,\u001b[38;5;241m88\u001b[39m,\u001b[38;5;241m89\u001b[39m]\n",
      "\u001b[1;31mNameError\u001b[0m: name 'totalData' is not defined"
     ]
    }
   ],
   "source": [
    "count = 0 # Reusable\n",
    "columnList = list(totalData.columns) # List of all columns\n",
    "'''\n",
    "for i in columnList:\n",
    "    print(count, \": \", i)\n",
    "    count += 1\n",
    "'''\n",
    "filterList = [0,1,9,10,12,13,14,18,20,28,56,57,58,68,69,87,88,89]\n",
    "filteredColumnList = []\n",
    "\n",
    "for i in filterList:\n",
    "    filteredColumnList.append(columnList[i])\n",
    "\n",
    "filteredColumnList\n"
   ]
  },
  {
   "cell_type": "code",
   "execution_count": 10,
   "metadata": {},
   "outputs": [],
   "source": [
    "filteredDf = totalData[filteredColumnList]\n",
    "filteredDf.to_csv(\"filtered.csv\") # Making a checkpoint to read further"
   ]
  },
  {
   "cell_type": "code",
   "execution_count": 2,
   "metadata": {},
   "outputs": [
    {
     "name": "stderr",
     "output_type": "stream",
     "text": [
      "C:\\Users\\ayush\\AppData\\Local\\Temp\\ipykernel_8768\\2338438587.py:3: DtypeWarning: Columns (1,11) have mixed types. Specify dtype option on import or set low_memory=False.\n",
      "  testdf = pandas.read_csv(\"filtered.csv\")\n"
     ]
    },
    {
     "data": {
      "text/plain": [
       "['Unnamed: 0',\n",
       " 'code',\n",
       " 'url',\n",
       " 'last_updated_datetime',\n",
       " 'product_name',\n",
       " 'generic_name',\n",
       " 'quantity',\n",
       " 'packaging',\n",
       " 'brands',\n",
       " 'categories',\n",
       " 'labels',\n",
       " 'nutriscore_score',\n",
       " 'nutriscore_grade',\n",
       " 'nova_group',\n",
       " 'ecoscore_score',\n",
       " 'ecoscore_grade',\n",
       " 'energy-kj_100g',\n",
       " 'energy-kcal_100g',\n",
       " 'energy_100g']"
      ]
     },
     "execution_count": 2,
     "metadata": {},
     "output_type": "execute_result"
    }
   ],
   "source": [
    "# Remove\n",
    "import pandas\n",
    "testdf = pandas.read_csv(\"filtered.csv\")\n",
    "list(testdf.columns)"
   ]
  }
 ],
 "metadata": {
  "kernelspec": {
   "display_name": "Python 3",
   "language": "python",
   "name": "python3"
  },
  "language_info": {
   "codemirror_mode": {
    "name": "ipython",
    "version": 3
   },
   "file_extension": ".py",
   "mimetype": "text/x-python",
   "name": "python",
   "nbconvert_exporter": "python",
   "pygments_lexer": "ipython3",
   "version": "3.12.4"
  }
 },
 "nbformat": 4,
 "nbformat_minor": 2
}
