{
 "cells": [
  {
   "cell_type": "code",
   "execution_count": 1,
   "metadata": {},
   "outputs": [
    {
     "name": "stderr",
     "output_type": "stream",
     "text": [
      "C:\\Users\\ayush\\AppData\\Local\\Temp\\ipykernel_32620\\2856158207.py:3: DtypeWarning: Columns (0,11,14,15,16,17,23,24,25,26,27,31,32,33,34,35,36,37,45,50,51,52,53,56,67,72) have mixed types. Specify dtype option on import or set low_memory=False.\n",
      "  totalData = pandas.read_csv(\"data.csv\", delimiter=\"\\t\", on_bad_lines=\"skip\")\n"
     ]
    }
   ],
   "source": [
    "import pandas\n",
    "\n",
    "totalData = pandas.read_csv(\"data.csv\", delimiter=\"\\t\", on_bad_lines=\"skip\")"
   ]
  },
  {
   "cell_type": "code",
   "execution_count": 8,
   "metadata": {},
   "outputs": [
    {
     "data": {
      "text/plain": [
       "['code',\n",
       " 'url',\n",
       " 'last_updated_datetime',\n",
       " 'product_name',\n",
       " 'generic_name',\n",
       " 'quantity',\n",
       " 'packaging',\n",
       " 'brands',\n",
       " 'categories',\n",
       " 'labels',\n",
       " 'nutriscore_score',\n",
       " 'nutriscore_grade',\n",
       " 'nova_group',\n",
       " 'ecoscore_score',\n",
       " 'ecoscore_grade',\n",
       " 'energy-kj_100g',\n",
       " 'energy-kcal_100g',\n",
       " 'energy_100g']"
      ]
     },
     "execution_count": 8,
     "metadata": {},
     "output_type": "execute_result"
    }
   ],
   "source": [
    "count = 0 # Reusable\n",
    "columnList = list(totalData.columns) # List of all columns\n",
    "'''\n",
    "for i in columnList:\n",
    "    print(count, \": \", i)\n",
    "    count += 1\n",
    "'''\n",
    "filterList = [0,1,9,10,12,13,14,18,20,28,56,57,58,68,69,87,88,89]\n",
    "filteredColumnList = []\n",
    "\n",
    "for i in filterList:\n",
    "    filteredColumnList.append(columnList[i])\n",
    "\n",
    "filteredColumnList\n"
   ]
  },
  {
   "cell_type": "code",
   "execution_count": 10,
   "metadata": {},
   "outputs": [],
   "source": [
    "filteredDf = totalData[filteredColumnList]\n",
    "filteredDf.to_csv(\"filtered.csv\") # Making a checkpoint to read further"
   ]
  }
 ],
 "metadata": {
  "kernelspec": {
   "display_name": "Python 3",
   "language": "python",
   "name": "python3"
  },
  "language_info": {
   "codemirror_mode": {
    "name": "ipython",
    "version": 3
   },
   "file_extension": ".py",
   "mimetype": "text/x-python",
   "name": "python",
   "nbconvert_exporter": "python",
   "pygments_lexer": "ipython3",
   "version": "3.12.4"
  }
 },
 "nbformat": 4,
 "nbformat_minor": 2
}
