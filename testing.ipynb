{
 "cells": [
  {
   "cell_type": "code",
   "execution_count": 16,
   "metadata": {},
   "outputs": [
    {
     "name": "stderr",
     "output_type": "stream",
     "text": [
      "C:\\Users\\ayush\\AppData\\Local\\Temp\\ipykernel_30220\\321705343.py:4: DtypeWarning: Columns (1,11) have mixed types. Specify dtype option on import or set low_memory=False.\n",
      "  df = pd.read_csv(\"filtered.csv\")\n"
     ]
    },
    {
     "name": "stdout",
     "output_type": "stream",
     "text": [
      "Index(['Unnamed: 0', 'code', 'url', 'last_updated_datetime', 'product_name',\n",
      "       'generic_name', 'quantity', 'packaging', 'brands', 'categories',\n",
      "       'labels', 'nutriscore_score', 'nutriscore_grade', 'nova_group',\n",
      "       'ecoscore_score', 'ecoscore_grade', 'energy-kj_100g',\n",
      "       'energy-kcal_100g', 'energy_100g'],\n",
      "      dtype='object')\n"
     ]
    }
   ],
   "source": [
    "import numpy as np\n",
    "import pandas as pd\n",
    "\n",
    "df = pd.read_csv(\"filtered.csv\")\n",
    "print(df.columns)\n",
    "df = df[df[\"product_name\"].notna()]"
   ]
  },
  {
   "cell_type": "code",
   "execution_count": 15,
   "metadata": {},
   "outputs": [
    {
     "name": "stdout",
     "output_type": "stream",
     "text": [
      "113894           Chewy granola\n",
      "144480     Oat & honey granola\n",
      "165640           Honey Granola\n",
      "448378     Nutty honey granola\n",
      "452827          Energy granola\n",
      "593073           Honey Granola\n",
      "813427           Honey granola\n",
      "2227433         Honey  granola\n",
      "2227459          Honey Granola\n",
      "2227479          Honey granola\n",
      "2227496          Honey Granola\n",
      "2244013          Honey Granola\n",
      "2396184    Sweet honey granola\n",
      "2463154          Honey Granola\n",
      "2551940     honey hemp granola\n",
      "2750675           Whey granola\n",
      "3427805          Honey granola\n",
      "3445675          Honey granula\n",
      "Name: product_name, dtype: object\n"
     ]
    }
   ],
   "source": [
    "import numpy as np\n",
    "from rapidfuzz import fuzz\n",
    "\n",
    "# Testing better algorithms to match names\n",
    "def lookupProductName(df, productName):\n",
    "    # Fill NaN values with empty strings\n",
    "    product_names = df[\"product_name\"].fillna('').values\n",
    "    \n",
    "    # Calculate scores using a vectorized approach\n",
    "    scores = np.vectorize(lambda e: fuzz.ratio(productName, e))(product_names)\n",
    "    \n",
    "    # Assign the scores back to the DataFrame\n",
    "    df['score'] = scores\n",
    "    return df[df['score'] > 85]\n",
    "\n",
    "\n",
    "\n",
    "productName = \"honey granola\"\n",
    "outputRow = lookupProductName(df, productName)\n",
    "#print(outputRow.head(5))\n",
    "print(outputRow[outputRow['score'] > 80][\"product_name\"])"
   ]
  },
  {
   "cell_type": "code",
   "execution_count": 3,
   "metadata": {},
   "outputs": [
    {
     "name": "stdout",
     "output_type": "stream",
     "text": [
      "                                            product_name  nova_group  \\\n",
      "17484                             oats and honey granola         NaN   \n",
      "22599  Oats & honey granola with raisins & almonds, o...         4.0   \n",
      "29965                   blueberry oats ans honey granola         NaN   \n",
      "31431          Blueberry oats and honey granola clusters         NaN   \n",
      "32630                    Oats, Almonds and Honey Granola         NaN   \n",
      "\n",
      "             brands quantity  \\\n",
      "17484      Farmland      NaN   \n",
      "22599           NaN      NaN   \n",
      "29965  Simple Truth    11 oz   \n",
      "31431  Simple Truth      NaN   \n",
      "32630        Kroger      NaN   \n",
      "\n",
      "                                              categories nutriscore_score  \\\n",
      "17484  Plant-based foods and beverages, Plant-based f...              6.0   \n",
      "22599  Plant-based foods and beverages, Plant-based f...              0.0   \n",
      "29965  Plant-based foods and beverages, Plant-based f...             13.0   \n",
      "31431  Plant-based foods and beverages, Plant-based f...              8.0   \n",
      "32630                                                NaN              NaN   \n",
      "\n",
      "       energy_100g  \n",
      "17484       1822.0  \n",
      "22599       1803.0  \n",
      "29965       1953.0  \n",
      "31431       1953.0  \n",
      "32630       1730.0  \n"
     ]
    }
   ],
   "source": [
    "def lookupProductName(df, productName):\n",
    "    outputDataFrame = df[df['product_name'].str.contains(productName, case=False, na=False)]\n",
    "    return outputDataFrame\n",
    "\n",
    "productName = \"Honey Granola\"\n",
    "#productName = st.text_input(\"Enter Product Name\", value=\"\", max_chars=None, key=None, type=\"default\", help=None, autocomplete=None, on_change=None, args=None, kwargs=None, placeholder=None, disabled=False, label_visibility=\"visible\")\n",
    "outputRow = lookupProductName(df[[\"product_name\", \"nova_group\", \"brands\", \n",
    "                                  \"quantity\", \"categories\", \"nutriscore_score\", \n",
    "                                  \"energy_100g\"]], productName)\n",
    "\n",
    "print(outputRow.head())"
   ]
  }
 ],
 "metadata": {
  "kernelspec": {
   "display_name": "Python 3",
   "language": "python",
   "name": "python3"
  },
  "language_info": {
   "codemirror_mode": {
    "name": "ipython",
    "version": 3
   },
   "file_extension": ".py",
   "mimetype": "text/x-python",
   "name": "python",
   "nbconvert_exporter": "python",
   "pygments_lexer": "ipython3",
   "version": "3.12.4"
  }
 },
 "nbformat": 4,
 "nbformat_minor": 2
}
