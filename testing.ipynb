{
 "cells": [
  {
   "cell_type": "code",
   "execution_count": 1,
   "metadata": {},
   "outputs": [
    {
     "name": "stderr",
     "output_type": "stream",
     "text": [
      "C:\\Users\\ayush\\AppData\\Local\\Temp\\ipykernel_7300\\4217653201.py:4: DtypeWarning: Columns (1,11) have mixed types. Specify dtype option on import or set low_memory=False.\n",
      "  df = pd.read_csv(\"filtered.csv\")\n"
     ]
    }
   ],
   "source": [
    "import numpy as np\n",
    "import pandas as pd\n",
    "\n",
    "df = pd.read_csv(\"filtered.csv\")"
   ]
  },
  {
   "cell_type": "code",
   "execution_count": 10,
   "metadata": {},
   "outputs": [
    {
     "name": "stdout",
     "output_type": "stream",
     "text": [
      "0                                     Filet\n",
      "1                         Poudre de grillon\n",
      "2          Feuchtes Toilettentuch - Kamille\n",
      "3                     Almond Dark Chocolate\n",
      "4                                Bio inulin\n",
      "                         ...               \n",
      "3477486             Beurre de cacahuète bio\n",
      "3477487                     Caseli  Brownie\n",
      "3477488                                Fati\n",
      "3477489           Light & Free SKYR A BOIRE\n",
      "3477490                          Salatgurke\n",
      "Name: product_name, Length: 3477491, dtype: object\n",
      "Unnamed: 0                                                           96579\n",
      "code                                                                244931\n",
      "url                      http://world-en.openfoodfacts.org/product/0024...\n",
      "last_updated_datetime                                 2024-10-04T13:00:49Z\n",
      "product_name                                                       kurkure\n",
      "generic_name                                                           NaN\n",
      "quantity                                                             dehli\n",
      "packaging                                                              NaN\n",
      "brands                                                             kurkure\n",
      "categories                                                             NaN\n",
      "labels                                                                 NaN\n",
      "nutriscore_score                                                       NaN\n",
      "nutriscore_grade                                                   unknown\n",
      "nova_group                                                             NaN\n",
      "ecoscore_score                                                         NaN\n",
      "ecoscore_grade                                                     unknown\n",
      "energy-kj_100g                                                         NaN\n",
      "energy-kcal_100g                                                       NaN\n",
      "energy_100g                                                            NaN\n",
      "Name: 96579, dtype: object\n"
     ]
    }
   ],
   "source": [
    "print(df[\"product_name\"])\n",
    "\n",
    "def lookupProductName(df, productName):\n",
    "    outputDataFrame = df[df['product_name'].str.contains(productName, case=False, na=False)]\n",
    "    return outputDataFrame\n",
    "\n",
    "productName = \"kurkure\"\n",
    "outputRow = lookupProductName(df, productName)\n",
    "print(outputRow.iloc[0])"
   ]
  }
 ],
 "metadata": {
  "kernelspec": {
   "display_name": "Python 3",
   "language": "python",
   "name": "python3"
  },
  "language_info": {
   "codemirror_mode": {
    "name": "ipython",
    "version": 3
   },
   "file_extension": ".py",
   "mimetype": "text/x-python",
   "name": "python",
   "nbconvert_exporter": "python",
   "pygments_lexer": "ipython3",
   "version": "3.12.4"
  }
 },
 "nbformat": 4,
 "nbformat_minor": 2
}
